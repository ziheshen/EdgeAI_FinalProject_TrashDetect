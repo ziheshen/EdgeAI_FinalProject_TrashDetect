{
 "cells": [
  {
   "attachments": {},
   "cell_type": "markdown",
   "metadata": {},
   "source": [
    "## Download Datas"
   ]
  },
  {
   "attachments": {},
   "cell_type": "markdown",
   "metadata": {},
   "source": [
    "#### 請至以下連結下載接下來推論過程所需要使用的檔案，並將其上傳至目前所在的目錄下：\n",
    "#### [pytorch PT檔](https://drive.google.com/file/d/1i7OOt9WXYl6rBF2iwDdZe6GOlogMbiyB/view?usp=drive_link)\n",
    "#### [推論圖片檔](https://drive.google.com/file/d/1i7OOt9WXYl6rBF2iwDdZe6GOlogMbiyB/view?usp=drive_link)\n",
    "#### [推論影片檔](https://drive.google.com/file/d/1HcUwuHJ0xUcZcrKuJWjl9XFOGgSR_h_9/view?usp=drive_link)"
   ]
  },
  {
   "attachments": {},
   "cell_type": "markdown",
   "metadata": {},
   "source": [
    "## Install YoloV8"
   ]
  },
  {
   "cell_type": "code",
   "execution_count": 4,
   "metadata": {},
   "outputs": [
    {
     "name": "stderr",
     "output_type": "stream",
     "text": [
      "Ultralytics YOLOv8.0.113 🚀 Python-3.8.16 torch-2.0.1+cu117 CPU\n",
      "Setup complete ✅ (12 CPUs, 7.4 GB RAM, 68.2/280.5 GB disk)\n"
     ]
    }
   ],
   "source": [
    "%pip install ultralytics \n",
    "import ultralytics\n",
    "ultralytics.checks()"
   ]
  },
  {
   "cell_type": "code",
   "execution_count": 4,
   "metadata": {},
   "outputs": [
    {
     "name": "stdout",
     "output_type": "stream",
     "text": [
      "Collecting numpy==1.20.3\n",
      "  Using cached numpy-1.20.3-cp38-cp38-manylinux_2_12_x86_64.manylinux2010_x86_64.whl (15.4 MB)\n",
      "Installing collected packages: numpy\n",
      "  Attempting uninstall: numpy\n",
      "    Found existing installation: numpy 1.24.3\n",
      "    Uninstalling numpy-1.24.3:\n",
      "      Successfully uninstalled numpy-1.24.3\n",
      "\u001b[31mERROR: pip's dependency resolver does not currently take into account all the packages that are installed. This behaviour is the source of the following dependency conflicts.\n",
      "onnxruntime-gpu 1.15.0 requires numpy>=1.21.6, but you have numpy 1.20.3 which is incompatible.\n",
      "scikit-image 0.21.0 requires numpy>=1.21.1, but you have numpy 1.20.3 which is incompatible.\u001b[0m\u001b[31m\n",
      "\u001b[0mSuccessfully installed numpy-1.20.3\n"
     ]
    }
   ],
   "source": [
    "import sys\n",
    "!{sys.executable} -m pip install numpy==1.20.3"
   ]
  },
  {
   "attachments": {},
   "cell_type": "markdown",
   "metadata": {},
   "source": [
    "## Export to Openvino and TensorRT"
   ]
  },
  {
   "cell_type": "code",
   "execution_count": 2,
   "metadata": {},
   "outputs": [
    {
     "name": "stderr",
     "output_type": "stream",
     "text": [
      "Ultralytics YOLOv8.0.113 🚀 Python-3.8.16 torch-2.0.1+cu117 CPU\n",
      "Model summary (fused): 168 layers, 3017153 parameters, 0 gradients\n",
      "\n",
      "\u001b[34m\u001b[1mPyTorch:\u001b[0m starting from /home/shenzihe/桌面/datasets/taco/runs/detect/train/weights/best.pt with input shape (1, 3, 640, 640) BCHW and output shape(s) (1, 63, 8400) (6.0 MB)\n",
      "\n",
      "\u001b[34m\u001b[1mONNX:\u001b[0m starting export with onnx 1.14.0 opset 17...\n",
      "\u001b[34m\u001b[1mONNX:\u001b[0m export success ✅ 1.0s, saved as /home/shenzihe/桌面/datasets/taco/runs/detect/train/weights/best.onnx (11.7 MB)\n"
     ]
    },
    {
     "name": "stdout",
     "output_type": "stream",
     "text": [
      "============= Diagnostic Run torch.onnx.export version 2.0.1+cu117 =============\n",
      "verbose: False, log level: Level.ERROR\n",
      "======================= 0 NONE 0 NOTE 0 WARNING 0 ERROR ========================\n",
      "\n"
     ]
    },
    {
     "name": "stderr",
     "output_type": "stream",
     "text": [
      "\n",
      "\u001b[34m\u001b[1mOpenVINO:\u001b[0m starting export with openvino 2023.0.0-10926-b4452d56304-releases/2023/0...\n",
      "\u001b[34m\u001b[1mOpenVINO:\u001b[0m export success ✅ 1.7s, saved as /home/shenzihe/桌面/datasets/taco/runs/detect/train/weights/best_openvino_model/ (11.8 MB)\n",
      "\n",
      "Export complete (3.3s)\n",
      "Results saved to \u001b[1m/home/shenzihe/桌面/datasets/taco/runs/detect/train/weights\u001b[0m\n",
      "Predict:         yolo predict task=detect model=/home/shenzihe/桌面/datasets/taco/runs/detect/train/weights/best_openvino_model imgsz=640 \n",
      "Validate:        yolo val task=detect model=/home/shenzihe/桌面/datasets/taco/runs/detect/train/weights/best_openvino_model imgsz=640 data=data.yaml \n",
      "Visualize:       https://netron.app\n"
     ]
    },
    {
     "data": {
      "text/plain": [
       "'/home/shenzihe/桌面/datasets/taco/runs/detect/train/weights/best_openvino_model'"
      ]
     },
     "execution_count": 2,
     "metadata": {},
     "output_type": "execute_result"
    }
   ],
   "source": [
    "from ultralytics import YOLO\n",
    "\n",
    "model = YOLO('/home/shenzihe/桌面/datasets/taco/runs/detect/train/weights/best.pt')\n",
    "\n",
    "# Export to OpenVINO\n",
    "model.export(format='openvino', device=\"cpu\")\n",
    "# Export to TensorRT\n",
    "# model.export(format='engine', device='0')"
   ]
  },
  {
   "attachments": {},
   "cell_type": "markdown",
   "metadata": {},
   "source": [
    "## Test on image/video/webCam\n"
   ]
  },
  {
   "cell_type": "code",
   "execution_count": 6,
   "metadata": {},
   "outputs": [],
   "source": [
    "MODEL_DIR = '/home/shenzihe/桌面/datasets/taco/runs/detect/train_epoch1000/weights/'\n",
    "PIC_DIR = '/home/shenzihe/桌面/jetson-inference/data/images/bottle_0.jpg'\n",
    "VIDEO_DIR = '/home/shenzihe/桌面/datasets/taco/trash_bottle.mp4'"
   ]
  },
  {
   "attachments": {},
   "cell_type": "markdown",
   "metadata": {},
   "source": [
    "### Use pytorch model to inference"
   ]
  },
  {
   "cell_type": "code",
   "execution_count": 7,
   "metadata": {},
   "outputs": [],
   "source": [
    "\n",
    "from ultralytics import YOLO\n",
    "\n",
    "# Load a model\n",
    "model = YOLO(MODEL_DIR+'best.pt')\n",
    "\n",
    "#Image\n",
    "result_image =  model(source=PIC_DIR, show=True, save=True)\n",
    "\n",
    "# Video\n",
    "result_video = model(source=VIDEO_DIR, show=True, save=True)\n",
    "\n",
    "#WebCam\n",
    "# result_webCam = model(source='0', save=True)\n"
   ]
  },
  {
   "attachments": {},
   "cell_type": "markdown",
   "metadata": {},
   "source": [
    "### Use openVINO model to inference"
   ]
  },
  {
   "cell_type": "code",
   "execution_count": 3,
   "metadata": {},
   "outputs": [
    {
     "name": "stderr",
     "output_type": "stream",
     "text": [
      "Loading /home/shenzihe/桌面/datasets/taco/runs/detect/train_epoch1000/weights/best_openvino_model for OpenVINO inference...\n",
      "\n",
      "image 1/1 /home/shenzihe/桌面/jetson-inference/data/images/bottle_0.jpg: 640x640 1 Clear plastic bottle, 1 Paper cup, 43.8ms\n",
      "Speed: 15.0ms preprocess, 43.8ms inference, 1.5ms postprocess per image at shape (1, 3, 640, 640)\n",
      "Results saved to \u001b[1mruns/detect/predict8\u001b[0m\n",
      "\n",
      "\n",
      "    WARNING ⚠️ stream/video/webcam/dir predict source will accumulate results in RAM unless `stream=True` is passed,\n",
      "    causing potential out-of-memory errors for large sources or long-running streams/videos.\n",
      "\n",
      "    Usage:\n",
      "        results = model(source=..., stream=True)  # generator of Results objects\n",
      "        for r in results:\n",
      "            boxes = r.boxes  # Boxes object for bbox outputs\n",
      "            masks = r.masks  # Masks object for segment masks outputs\n",
      "            probs = r.probs  # Class probabilities for classification outputs\n",
      "\n",
      "video 1/1 (1/231) /home/shenzihe/桌面/datasets/taco/trash_bottle.mp4: 640x640 (no detections), 41.6ms\n",
      "video 1/1 (2/231) /home/shenzihe/桌面/datasets/taco/trash_bottle.mp4: 640x640 1 Other plastic container, 36.4ms\n",
      "video 1/1 (3/231) /home/shenzihe/桌面/datasets/taco/trash_bottle.mp4: 640x640 (no detections), 37.6ms\n",
      "video 1/1 (4/231) /home/shenzihe/桌面/datasets/taco/trash_bottle.mp4: 640x640 (no detections), 34.3ms\n",
      "video 1/1 (5/231) /home/shenzihe/桌面/datasets/taco/trash_bottle.mp4: 640x640 (no detections), 37.3ms\n",
      "video 1/1 (6/231) /home/shenzihe/桌面/datasets/taco/trash_bottle.mp4: 640x640 (no detections), 32.4ms\n",
      "video 1/1 (7/231) /home/shenzihe/桌面/datasets/taco/trash_bottle.mp4: 640x640 (no detections), 31.1ms\n",
      "video 1/1 (8/231) /home/shenzihe/桌面/datasets/taco/trash_bottle.mp4: 640x640 (no detections), 30.7ms\n",
      "video 1/1 (9/231) /home/shenzihe/桌面/datasets/taco/trash_bottle.mp4: 640x640 (no detections), 36.7ms\n",
      "video 1/1 (10/231) /home/shenzihe/桌面/datasets/taco/trash_bottle.mp4: 640x640 (no detections), 36.6ms\n",
      "video 1/1 (11/231) /home/shenzihe/桌面/datasets/taco/trash_bottle.mp4: 640x640 (no detections), 44.9ms\n",
      "video 1/1 (12/231) /home/shenzihe/桌面/datasets/taco/trash_bottle.mp4: 640x640 (no detections), 40.3ms\n",
      "video 1/1 (13/231) /home/shenzihe/桌面/datasets/taco/trash_bottle.mp4: 640x640 (no detections), 43.4ms\n",
      "video 1/1 (14/231) /home/shenzihe/桌面/datasets/taco/trash_bottle.mp4: 640x640 (no detections), 44.2ms\n",
      "video 1/1 (15/231) /home/shenzihe/桌面/datasets/taco/trash_bottle.mp4: 640x640 (no detections), 40.3ms\n",
      "video 1/1 (16/231) /home/shenzihe/桌面/datasets/taco/trash_bottle.mp4: 640x640 (no detections), 41.6ms\n",
      "video 1/1 (17/231) /home/shenzihe/桌面/datasets/taco/trash_bottle.mp4: 640x640 (no detections), 41.7ms\n",
      "video 1/1 (18/231) /home/shenzihe/桌面/datasets/taco/trash_bottle.mp4: 640x640 (no detections), 40.3ms\n",
      "video 1/1 (19/231) /home/shenzihe/桌面/datasets/taco/trash_bottle.mp4: 640x640 (no detections), 45.2ms\n",
      "video 1/1 (20/231) /home/shenzihe/桌面/datasets/taco/trash_bottle.mp4: 640x640 (no detections), 38.6ms\n",
      "video 1/1 (21/231) /home/shenzihe/桌面/datasets/taco/trash_bottle.mp4: 640x640 (no detections), 42.8ms\n",
      "video 1/1 (22/231) /home/shenzihe/桌面/datasets/taco/trash_bottle.mp4: 640x640 1 Disposable food container, 1 Garbage bag, 42.6ms\n",
      "video 1/1 (23/231) /home/shenzihe/桌面/datasets/taco/trash_bottle.mp4: 640x640 1 Garbage bag, 41.1ms\n",
      "video 1/1 (24/231) /home/shenzihe/桌面/datasets/taco/trash_bottle.mp4: 640x640 1 Garbage bag, 42.1ms\n",
      "video 1/1 (25/231) /home/shenzihe/桌面/datasets/taco/trash_bottle.mp4: 640x640 1 Disposable food container, 1 Garbage bag, 1 Plastic lid, 34.3ms\n",
      "video 1/1 (26/231) /home/shenzihe/桌面/datasets/taco/trash_bottle.mp4: 640x640 1 Disposable food container, 1 Garbage bag, 1 Plastic lid, 42.4ms\n",
      "video 1/1 (27/231) /home/shenzihe/桌面/datasets/taco/trash_bottle.mp4: 640x640 1 Garbage bag, 1 Plastic lid, 40.3ms\n",
      "video 1/1 (28/231) /home/shenzihe/桌面/datasets/taco/trash_bottle.mp4: 640x640 1 Disposable food container, 1 Garbage bag, 1 Plastic lid, 42.0ms\n",
      "video 1/1 (29/231) /home/shenzihe/桌面/datasets/taco/trash_bottle.mp4: 640x640 1 Disposable food container, 1 Plastic lid, 44.3ms\n",
      "video 1/1 (30/231) /home/shenzihe/桌面/datasets/taco/trash_bottle.mp4: 640x640 1 Disposable food container, 1 Plastic lid, 45.8ms\n",
      "video 1/1 (31/231) /home/shenzihe/桌面/datasets/taco/trash_bottle.mp4: 640x640 1 Disposable food container, 1 Plastic lid, 40.4ms\n",
      "video 1/1 (32/231) /home/shenzihe/桌面/datasets/taco/trash_bottle.mp4: 640x640 1 Disposable food container, 1 Plastic lid, 42.2ms\n",
      "video 1/1 (33/231) /home/shenzihe/桌面/datasets/taco/trash_bottle.mp4: 640x640 1 Disposable food container, 1 Plastic lid, 44.7ms\n",
      "video 1/1 (34/231) /home/shenzihe/桌面/datasets/taco/trash_bottle.mp4: 640x640 1 Disposable food container, 1 Plastic lid, 49.1ms\n",
      "video 1/1 (35/231) /home/shenzihe/桌面/datasets/taco/trash_bottle.mp4: 640x640 1 Disposable food container, 1 Plastic lid, 40.6ms\n",
      "video 1/1 (36/231) /home/shenzihe/桌面/datasets/taco/trash_bottle.mp4: 640x640 1 Disposable food container, 1 Plastic lid, 42.4ms\n",
      "video 1/1 (37/231) /home/shenzihe/桌面/datasets/taco/trash_bottle.mp4: 640x640 1 Disposable food container, 1 Plastic lid, 40.9ms\n",
      "video 1/1 (38/231) /home/shenzihe/桌面/datasets/taco/trash_bottle.mp4: 640x640 1 Disposable food container, 1 Plastic lid, 38.8ms\n",
      "video 1/1 (39/231) /home/shenzihe/桌面/datasets/taco/trash_bottle.mp4: 640x640 1 Disposable food container, 31.1ms\n",
      "video 1/1 (40/231) /home/shenzihe/桌面/datasets/taco/trash_bottle.mp4: 640x640 1 Disposable food container, 39.2ms\n",
      "video 1/1 (41/231) /home/shenzihe/桌面/datasets/taco/trash_bottle.mp4: 640x640 1 Disposable food container, 41.0ms\n",
      "video 1/1 (42/231) /home/shenzihe/桌面/datasets/taco/trash_bottle.mp4: 640x640 1 Disposable food container, 43.7ms\n",
      "video 1/1 (43/231) /home/shenzihe/桌面/datasets/taco/trash_bottle.mp4: 640x640 1 Disposable food container, 40.5ms\n",
      "video 1/1 (44/231) /home/shenzihe/桌面/datasets/taco/trash_bottle.mp4: 640x640 1 Disposable food container, 41.6ms\n",
      "video 1/1 (45/231) /home/shenzihe/桌面/datasets/taco/trash_bottle.mp4: 640x640 1 Disposable food container, 36.8ms\n",
      "video 1/1 (46/231) /home/shenzihe/桌面/datasets/taco/trash_bottle.mp4: 640x640 1 Disposable food container, 1 Single-use carrier bag, 39.9ms\n",
      "video 1/1 (47/231) /home/shenzihe/桌面/datasets/taco/trash_bottle.mp4: 640x640 1 Disposable food container, 41.1ms\n",
      "video 1/1 (48/231) /home/shenzihe/桌面/datasets/taco/trash_bottle.mp4: 640x640 1 Disposable food container, 39.9ms\n",
      "video 1/1 (49/231) /home/shenzihe/桌面/datasets/taco/trash_bottle.mp4: 640x640 1 Disposable food container, 38.8ms\n",
      "video 1/1 (50/231) /home/shenzihe/桌面/datasets/taco/trash_bottle.mp4: 640x640 1 Disposable food container, 41.6ms\n",
      "video 1/1 (51/231) /home/shenzihe/桌面/datasets/taco/trash_bottle.mp4: 640x640 1 Disposable food container, 38.7ms\n",
      "video 1/1 (52/231) /home/shenzihe/桌面/datasets/taco/trash_bottle.mp4: 640x640 1 Disposable food container, 40.3ms\n",
      "video 1/1 (53/231) /home/shenzihe/桌面/datasets/taco/trash_bottle.mp4: 640x640 1 Disposable food container, 25.7ms\n",
      "video 1/1 (54/231) /home/shenzihe/桌面/datasets/taco/trash_bottle.mp4: 640x640 1 Disposable food container, 24.4ms\n",
      "video 1/1 (55/231) /home/shenzihe/桌面/datasets/taco/trash_bottle.mp4: 640x640 1 Disposable food container, 22.5ms\n",
      "video 1/1 (56/231) /home/shenzihe/桌面/datasets/taco/trash_bottle.mp4: 640x640 1 Disposable food container, 24.2ms\n",
      "video 1/1 (57/231) /home/shenzihe/桌面/datasets/taco/trash_bottle.mp4: 640x640 1 Disposable food container, 33.3ms\n",
      "video 1/1 (58/231) /home/shenzihe/桌面/datasets/taco/trash_bottle.mp4: 640x640 1 Disposable food container, 25.3ms\n",
      "video 1/1 (59/231) /home/shenzihe/桌面/datasets/taco/trash_bottle.mp4: 640x640 1 Disposable food container, 28.8ms\n",
      "video 1/1 (60/231) /home/shenzihe/桌面/datasets/taco/trash_bottle.mp4: 640x640 1 Disposable food container, 26.8ms\n",
      "video 1/1 (61/231) /home/shenzihe/桌面/datasets/taco/trash_bottle.mp4: 640x640 1 Disposable food container, 43.7ms\n",
      "video 1/1 (62/231) /home/shenzihe/桌面/datasets/taco/trash_bottle.mp4: 640x640 1 Disposable food container, 25.7ms\n",
      "video 1/1 (63/231) /home/shenzihe/桌面/datasets/taco/trash_bottle.mp4: 640x640 1 Disposable food container, 35.0ms\n",
      "video 1/1 (64/231) /home/shenzihe/桌面/datasets/taco/trash_bottle.mp4: 640x640 1 Disposable food container, 28.1ms\n",
      "video 1/1 (65/231) /home/shenzihe/桌面/datasets/taco/trash_bottle.mp4: 640x640 1 Disposable food container, 26.8ms\n",
      "video 1/1 (66/231) /home/shenzihe/桌面/datasets/taco/trash_bottle.mp4: 640x640 1 Disposable food container, 27.7ms\n",
      "video 1/1 (67/231) /home/shenzihe/桌面/datasets/taco/trash_bottle.mp4: 640x640 1 Disposable food container, 26.5ms\n",
      "video 1/1 (68/231) /home/shenzihe/桌面/datasets/taco/trash_bottle.mp4: 640x640 1 Aluminium foil, 1 Other plastic container, 26.5ms\n",
      "video 1/1 (69/231) /home/shenzihe/桌面/datasets/taco/trash_bottle.mp4: 640x640 1 Disposable food container, 32.8ms\n",
      "video 1/1 (70/231) /home/shenzihe/桌面/datasets/taco/trash_bottle.mp4: 640x640 1 Disposable food container, 43.1ms\n",
      "video 1/1 (71/231) /home/shenzihe/桌面/datasets/taco/trash_bottle.mp4: 640x640 1 Aluminium foil, 1 Disposable food container, 43.2ms\n",
      "video 1/1 (72/231) /home/shenzihe/桌面/datasets/taco/trash_bottle.mp4: 640x640 1 Aluminium foil, 1 Clear plastic bottle, 1 Disposable food container, 28.2ms\n",
      "video 1/1 (73/231) /home/shenzihe/桌面/datasets/taco/trash_bottle.mp4: 640x640 1 Disposable food container, 23.3ms\n",
      "video 1/1 (74/231) /home/shenzihe/桌面/datasets/taco/trash_bottle.mp4: 640x640 1 Aluminium foil, 2 Clear plastic bottles, 1 Disposable food container, 24.0ms\n",
      "video 1/1 (75/231) /home/shenzihe/桌面/datasets/taco/trash_bottle.mp4: 640x640 1 Clear plastic bottle, 31.6ms\n",
      "video 1/1 (76/231) /home/shenzihe/桌面/datasets/taco/trash_bottle.mp4: 640x640 (no detections), 28.9ms\n",
      "video 1/1 (77/231) /home/shenzihe/桌面/datasets/taco/trash_bottle.mp4: 640x640 (no detections), 23.2ms\n",
      "video 1/1 (78/231) /home/shenzihe/桌面/datasets/taco/trash_bottle.mp4: 640x640 (no detections), 25.2ms\n",
      "video 1/1 (79/231) /home/shenzihe/桌面/datasets/taco/trash_bottle.mp4: 640x640 1 Other plastic container, 23.0ms\n",
      "video 1/1 (80/231) /home/shenzihe/桌面/datasets/taco/trash_bottle.mp4: 640x640 1 Other plastic container, 23.2ms\n",
      "video 1/1 (81/231) /home/shenzihe/桌面/datasets/taco/trash_bottle.mp4: 640x640 (no detections), 24.3ms\n",
      "video 1/1 (82/231) /home/shenzihe/桌面/datasets/taco/trash_bottle.mp4: 640x640 (no detections), 24.6ms\n",
      "video 1/1 (83/231) /home/shenzihe/桌面/datasets/taco/trash_bottle.mp4: 640x640 (no detections), 23.0ms\n",
      "video 1/1 (84/231) /home/shenzihe/桌面/datasets/taco/trash_bottle.mp4: 640x640 1 Garbage bag, 1 Other plastic container, 32.3ms\n",
      "video 1/1 (85/231) /home/shenzihe/桌面/datasets/taco/trash_bottle.mp4: 640x640 1 Other plastic container, 24.5ms\n",
      "video 1/1 (86/231) /home/shenzihe/桌面/datasets/taco/trash_bottle.mp4: 640x640 (no detections), 23.6ms\n",
      "video 1/1 (87/231) /home/shenzihe/桌面/datasets/taco/trash_bottle.mp4: 640x640 (no detections), 25.0ms\n",
      "video 1/1 (88/231) /home/shenzihe/桌面/datasets/taco/trash_bottle.mp4: 640x640 (no detections), 24.7ms\n",
      "video 1/1 (89/231) /home/shenzihe/桌面/datasets/taco/trash_bottle.mp4: 640x640 1 Aluminium foil, 1 Garbage bag, 23.5ms\n",
      "video 1/1 (90/231) /home/shenzihe/桌面/datasets/taco/trash_bottle.mp4: 640x640 1 Aluminium foil, 1 Garbage bag, 25.1ms\n",
      "video 1/1 (91/231) /home/shenzihe/桌面/datasets/taco/trash_bottle.mp4: 640x640 1 Garbage bag, 36.6ms\n",
      "video 1/1 (92/231) /home/shenzihe/桌面/datasets/taco/trash_bottle.mp4: 640x640 1 Other plastic container, 39.9ms\n",
      "video 1/1 (93/231) /home/shenzihe/桌面/datasets/taco/trash_bottle.mp4: 640x640 1 Aluminium foil, 1 Garbage bag, 31.9ms\n",
      "video 1/1 (94/231) /home/shenzihe/桌面/datasets/taco/trash_bottle.mp4: 640x640 (no detections), 25.2ms\n",
      "video 1/1 (95/231) /home/shenzihe/桌面/datasets/taco/trash_bottle.mp4: 640x640 1 Other plastic container, 27.9ms\n",
      "video 1/1 (96/231) /home/shenzihe/桌面/datasets/taco/trash_bottle.mp4: 640x640 1 Aluminium foil, 1 Other plastic container, 25.9ms\n",
      "video 1/1 (97/231) /home/shenzihe/桌面/datasets/taco/trash_bottle.mp4: 640x640 1 Other plastic container, 33.3ms\n",
      "video 1/1 (98/231) /home/shenzihe/桌面/datasets/taco/trash_bottle.mp4: 640x640 1 Other plastic container, 30.9ms\n",
      "video 1/1 (99/231) /home/shenzihe/桌面/datasets/taco/trash_bottle.mp4: 640x640 1 Other plastic container, 29.2ms\n",
      "video 1/1 (100/231) /home/shenzihe/桌面/datasets/taco/trash_bottle.mp4: 640x640 1 Other plastic container, 28.1ms\n",
      "video 1/1 (101/231) /home/shenzihe/桌面/datasets/taco/trash_bottle.mp4: 640x640 1 Other plastic container, 26.9ms\n",
      "video 1/1 (102/231) /home/shenzihe/桌面/datasets/taco/trash_bottle.mp4: 640x640 1 Other plastic container, 34.1ms\n",
      "video 1/1 (103/231) /home/shenzihe/桌面/datasets/taco/trash_bottle.mp4: 640x640 1 Aluminium foil, 1 Other plastic container, 30.1ms\n",
      "video 1/1 (104/231) /home/shenzihe/桌面/datasets/taco/trash_bottle.mp4: 640x640 1 Aluminium foil, 1 Other plastic container, 1 Single-use carrier bag, 24.8ms\n",
      "video 1/1 (105/231) /home/shenzihe/桌面/datasets/taco/trash_bottle.mp4: 640x640 1 Aluminium foil, 1 Other plastic container, 28.6ms\n",
      "video 1/1 (106/231) /home/shenzihe/桌面/datasets/taco/trash_bottle.mp4: 640x640 1 Aluminium foil, 1 Other plastic container, 1 Plastic lid, 1 Single-use carrier bag, 25.7ms\n",
      "video 1/1 (107/231) /home/shenzihe/桌面/datasets/taco/trash_bottle.mp4: 640x640 1 Aluminium foil, 1 Other plastic container, 1 Single-use carrier bag, 25.1ms\n",
      "video 1/1 (108/231) /home/shenzihe/桌面/datasets/taco/trash_bottle.mp4: 640x640 1 Other plastic container, 2 Single-use carrier bags, 24.6ms\n",
      "video 1/1 (109/231) /home/shenzihe/桌面/datasets/taco/trash_bottle.mp4: 640x640 1 Aluminium foil, 1 Other plastic container, 2 Single-use carrier bags, 42.5ms\n",
      "video 1/1 (110/231) /home/shenzihe/桌面/datasets/taco/trash_bottle.mp4: 640x640 1 Aluminium foil, 1 Other plastic container, 1 Single-use carrier bag, 39.9ms\n",
      "video 1/1 (111/231) /home/shenzihe/桌面/datasets/taco/trash_bottle.mp4: 640x640 1 Aluminium foil, 1 Other plastic container, 1 Single-use carrier bag, 43.4ms\n",
      "video 1/1 (112/231) /home/shenzihe/桌面/datasets/taco/trash_bottle.mp4: 640x640 1 Aluminium foil, 1 Other plastic container, 1 Single-use carrier bag, 26.0ms\n",
      "video 1/1 (113/231) /home/shenzihe/桌面/datasets/taco/trash_bottle.mp4: 640x640 1 Other plastic container, 1 Single-use carrier bag, 27.9ms\n",
      "video 1/1 (114/231) /home/shenzihe/桌面/datasets/taco/trash_bottle.mp4: 640x640 1 Other plastic container, 25.8ms\n",
      "video 1/1 (115/231) /home/shenzihe/桌面/datasets/taco/trash_bottle.mp4: 640x640 1 Other plastic container, 1 Single-use carrier bag, 36.0ms\n",
      "video 1/1 (116/231) /home/shenzihe/桌面/datasets/taco/trash_bottle.mp4: 640x640 (no detections), 25.6ms\n",
      "video 1/1 (117/231) /home/shenzihe/桌面/datasets/taco/trash_bottle.mp4: 640x640 1 Aluminium foil, 1 Garbage bag, 27.3ms\n",
      "video 1/1 (118/231) /home/shenzihe/桌面/datasets/taco/trash_bottle.mp4: 640x640 1 Aluminium foil, 1 Garbage bag, 26.9ms\n",
      "video 1/1 (119/231) /home/shenzihe/桌面/datasets/taco/trash_bottle.mp4: 640x640 1 Aluminium foil, 1 Garbage bag, 26.9ms\n",
      "video 1/1 (120/231) /home/shenzihe/桌面/datasets/taco/trash_bottle.mp4: 640x640 1 Aluminium foil, 34.4ms\n",
      "video 1/1 (121/231) /home/shenzihe/桌面/datasets/taco/trash_bottle.mp4: 640x640 1 Aluminium foil, 25.9ms\n",
      "video 1/1 (122/231) /home/shenzihe/桌面/datasets/taco/trash_bottle.mp4: 640x640 1 Aluminium foil, 23.9ms\n",
      "video 1/1 (123/231) /home/shenzihe/桌面/datasets/taco/trash_bottle.mp4: 640x640 1 Aluminium foil, 25.9ms\n",
      "video 1/1 (124/231) /home/shenzihe/桌面/datasets/taco/trash_bottle.mp4: 640x640 1 Aluminium foil, 1 Garbage bag, 25.9ms\n",
      "video 1/1 (125/231) /home/shenzihe/桌面/datasets/taco/trash_bottle.mp4: 640x640 1 Aluminium foil, 1 Garbage bag, 24.2ms\n",
      "video 1/1 (126/231) /home/shenzihe/桌面/datasets/taco/trash_bottle.mp4: 640x640 1 Aluminium foil, 1 Garbage bag, 44.7ms\n",
      "video 1/1 (127/231) /home/shenzihe/桌面/datasets/taco/trash_bottle.mp4: 640x640 1 Other plastic container, 23.3ms\n",
      "video 1/1 (128/231) /home/shenzihe/桌面/datasets/taco/trash_bottle.mp4: 640x640 (no detections), 30.9ms\n",
      "video 1/1 (129/231) /home/shenzihe/桌面/datasets/taco/trash_bottle.mp4: 640x640 (no detections), 39.3ms\n",
      "video 1/1 (130/231) /home/shenzihe/桌面/datasets/taco/trash_bottle.mp4: 640x640 2 Clear plastic bottles, 1 Garbage bag, 39.5ms\n",
      "video 1/1 (131/231) /home/shenzihe/桌面/datasets/taco/trash_bottle.mp4: 640x640 1 Clear plastic bottle, 1 Garbage bag, 40.1ms\n",
      "video 1/1 (132/231) /home/shenzihe/桌面/datasets/taco/trash_bottle.mp4: 640x640 1 Other plastic container, 42.4ms\n",
      "video 1/1 (133/231) /home/shenzihe/桌面/datasets/taco/trash_bottle.mp4: 640x640 1 Normal paper, 1 Other plastic container, 41.3ms\n",
      "video 1/1 (134/231) /home/shenzihe/桌面/datasets/taco/trash_bottle.mp4: 640x640 1 Aluminium foil, 1 Clear plastic bottle, 34.3ms\n",
      "video 1/1 (135/231) /home/shenzihe/桌面/datasets/taco/trash_bottle.mp4: 640x640 2 Clear plastic bottles, 1 Other plastic container, 30.6ms\n",
      "video 1/1 (136/231) /home/shenzihe/桌面/datasets/taco/trash_bottle.mp4: 640x640 1 Clear plastic bottle, 1 Glass bottle, 1 Other plastic container, 37.6ms\n",
      "video 1/1 (137/231) /home/shenzihe/桌面/datasets/taco/trash_bottle.mp4: 640x640 1 Clear plastic bottle, 1 Other plastic container, 30.1ms\n",
      "video 1/1 (138/231) /home/shenzihe/桌面/datasets/taco/trash_bottle.mp4: 640x640 1 Clear plastic bottle, 32.7ms\n",
      "video 1/1 (139/231) /home/shenzihe/桌面/datasets/taco/trash_bottle.mp4: 640x640 1 Clear plastic bottle, 2 Other plastic containers, 28.4ms\n",
      "video 1/1 (140/231) /home/shenzihe/桌面/datasets/taco/trash_bottle.mp4: 640x640 1 Other plastic container, 1 Plastic bottle cap, 30.5ms\n",
      "video 1/1 (141/231) /home/shenzihe/桌面/datasets/taco/trash_bottle.mp4: 640x640 2 Clear plastic bottles, 1 Other plastic container, 1 Plastic bottle cap, 29.9ms\n",
      "video 1/1 (142/231) /home/shenzihe/桌面/datasets/taco/trash_bottle.mp4: 640x640 2 Other plastic containers, 27.9ms\n",
      "video 1/1 (143/231) /home/shenzihe/桌面/datasets/taco/trash_bottle.mp4: 640x640 1 Other plastic container, 2 Plastic bottle caps, 30.2ms\n",
      "video 1/1 (144/231) /home/shenzihe/桌面/datasets/taco/trash_bottle.mp4: 640x640 1 Other plastic container, 2 Plastic bottle caps, 33.7ms\n",
      "video 1/1 (145/231) /home/shenzihe/桌面/datasets/taco/trash_bottle.mp4: 640x640 1 Other plastic container, 2 Plastic bottle caps, 32.3ms\n",
      "video 1/1 (146/231) /home/shenzihe/桌面/datasets/taco/trash_bottle.mp4: 640x640 1 Other plastic container, 2 Plastic bottle caps, 32.8ms\n",
      "video 1/1 (147/231) /home/shenzihe/桌面/datasets/taco/trash_bottle.mp4: 640x640 1 Other plastic container, 2 Plastic bottle caps, 27.1ms\n",
      "video 1/1 (148/231) /home/shenzihe/桌面/datasets/taco/trash_bottle.mp4: 640x640 1 Other plastic container, 2 Plastic bottle caps, 36.3ms\n",
      "video 1/1 (149/231) /home/shenzihe/桌面/datasets/taco/trash_bottle.mp4: 640x640 2 Other plastic containers, 2 Plastic bottle caps, 32.6ms\n",
      "video 1/1 (150/231) /home/shenzihe/桌面/datasets/taco/trash_bottle.mp4: 640x640 1 Other plastic container, 1 Plastic bottle cap, 32.6ms\n",
      "video 1/1 (151/231) /home/shenzihe/桌面/datasets/taco/trash_bottle.mp4: 640x640 2 Other plastic containers, 2 Plastic bottle caps, 27.5ms\n",
      "video 1/1 (152/231) /home/shenzihe/桌面/datasets/taco/trash_bottle.mp4: 640x640 2 Other plastic containers, 2 Plastic bottle caps, 29.5ms\n",
      "video 1/1 (153/231) /home/shenzihe/桌面/datasets/taco/trash_bottle.mp4: 640x640 2 Other plastic containers, 2 Plastic bottle caps, 38.6ms\n",
      "video 1/1 (154/231) /home/shenzihe/桌面/datasets/taco/trash_bottle.mp4: 640x640 1 Other plastic container, 2 Plastic bottle caps, 31.9ms\n",
      "video 1/1 (155/231) /home/shenzihe/桌面/datasets/taco/trash_bottle.mp4: 640x640 1 Other plastic container, 2 Plastic bottle caps, 30.3ms\n",
      "video 1/1 (156/231) /home/shenzihe/桌面/datasets/taco/trash_bottle.mp4: 640x640 1 Other plastic container, 2 Plastic bottle caps, 1 Plastic lid, 28.1ms\n",
      "video 1/1 (157/231) /home/shenzihe/桌面/datasets/taco/trash_bottle.mp4: 640x640 1 Other plastic container, 2 Plastic bottle caps, 35.1ms\n",
      "video 1/1 (158/231) /home/shenzihe/桌面/datasets/taco/trash_bottle.mp4: 640x640 1 Other plastic container, 2 Plastic bottle caps, 33.5ms\n",
      "video 1/1 (159/231) /home/shenzihe/桌面/datasets/taco/trash_bottle.mp4: 640x640 1 Other plastic container, 2 Plastic bottle caps, 38.6ms\n",
      "video 1/1 (160/231) /home/shenzihe/桌面/datasets/taco/trash_bottle.mp4: 640x640 1 Other plastic container, 2 Plastic bottle caps, 43.7ms\n",
      "video 1/1 (161/231) /home/shenzihe/桌面/datasets/taco/trash_bottle.mp4: 640x640 1 Other plastic container, 3 Plastic bottle caps, 53.5ms\n",
      "video 1/1 (162/231) /home/shenzihe/桌面/datasets/taco/trash_bottle.mp4: 640x640 1 Other plastic container, 2 Plastic bottle caps, 41.7ms\n",
      "video 1/1 (163/231) /home/shenzihe/桌面/datasets/taco/trash_bottle.mp4: 640x640 1 Normal paper, 1 Other plastic container, 2 Plastic bottle caps, 39.4ms\n",
      "video 1/1 (164/231) /home/shenzihe/桌面/datasets/taco/trash_bottle.mp4: 640x640 1 Other plastic container, 2 Plastic bottle caps, 43.7ms\n",
      "video 1/1 (165/231) /home/shenzihe/桌面/datasets/taco/trash_bottle.mp4: 640x640 1 Other plastic container, 2 Plastic bottle caps, 42.6ms\n",
      "video 1/1 (166/231) /home/shenzihe/桌面/datasets/taco/trash_bottle.mp4: 640x640 1 Other plastic container, 2 Plastic bottle caps, 69.6ms\n",
      "video 1/1 (167/231) /home/shenzihe/桌面/datasets/taco/trash_bottle.mp4: 640x640 1 Other plastic container, 2 Plastic bottle caps, 1 Plastic lid, 27.0ms\n",
      "video 1/1 (168/231) /home/shenzihe/桌面/datasets/taco/trash_bottle.mp4: 640x640 1 Other plastic container, 2 Plastic bottle caps, 27.3ms\n",
      "video 1/1 (169/231) /home/shenzihe/桌面/datasets/taco/trash_bottle.mp4: 640x640 2 Other plastic containers, 3 Plastic bottle caps, 28.0ms\n",
      "video 1/1 (170/231) /home/shenzihe/桌面/datasets/taco/trash_bottle.mp4: 640x640 2 Other plastic containers, 2 Plastic bottle caps, 26.7ms\n",
      "video 1/1 (171/231) /home/shenzihe/桌面/datasets/taco/trash_bottle.mp4: 640x640 2 Other plastic containers, 3 Plastic bottle caps, 38.4ms\n",
      "video 1/1 (172/231) /home/shenzihe/桌面/datasets/taco/trash_bottle.mp4: 640x640 3 Other plastic containers, 1 Plastic bottle cap, 38.3ms\n",
      "video 1/1 (173/231) /home/shenzihe/桌面/datasets/taco/trash_bottle.mp4: 640x640 3 Other plastic containers, 2 Plastic bottle caps, 37.6ms\n",
      "video 1/1 (174/231) /home/shenzihe/桌面/datasets/taco/trash_bottle.mp4: 640x640 3 Other plastic containers, 2 Plastic bottle caps, 48.3ms\n",
      "video 1/1 (175/231) /home/shenzihe/桌面/datasets/taco/trash_bottle.mp4: 640x640 3 Other plastic containers, 2 Plastic bottle caps, 42.5ms\n",
      "video 1/1 (176/231) /home/shenzihe/桌面/datasets/taco/trash_bottle.mp4: 640x640 1 Other plastic container, 1 Plastic bottle cap, 1 Plastic lid, 38.3ms\n",
      "video 1/1 (177/231) /home/shenzihe/桌面/datasets/taco/trash_bottle.mp4: 640x640 1 Other plastic container, 1 Plastic bottle cap, 34.4ms\n",
      "video 1/1 (178/231) /home/shenzihe/桌面/datasets/taco/trash_bottle.mp4: 640x640 1 Other plastic container, 1 Plastic lid, 31.6ms\n",
      "video 1/1 (179/231) /home/shenzihe/桌面/datasets/taco/trash_bottle.mp4: 640x640 1 Other plastic container, 1 Plastic lid, 39.4ms\n",
      "video 1/1 (180/231) /home/shenzihe/桌面/datasets/taco/trash_bottle.mp4: 640x640 1 Other plastic container, 29.5ms\n",
      "video 1/1 (181/231) /home/shenzihe/桌面/datasets/taco/trash_bottle.mp4: 640x640 1 Other plastic container, 1 Plastic bottle cap, 39.3ms\n",
      "video 1/1 (182/231) /home/shenzihe/桌面/datasets/taco/trash_bottle.mp4: 640x640 1 Other plastic container, 1 Plastic bottle cap, 36.0ms\n",
      "video 1/1 (183/231) /home/shenzihe/桌面/datasets/taco/trash_bottle.mp4: 640x640 1 Other plastic container, 1 Plastic bottle cap, 31.3ms\n",
      "video 1/1 (184/231) /home/shenzihe/桌面/datasets/taco/trash_bottle.mp4: 640x640 1 Other plastic container, 2 Plastic bottle caps, 30.5ms\n",
      "video 1/1 (185/231) /home/shenzihe/桌面/datasets/taco/trash_bottle.mp4: 640x640 1 Other plastic container, 3 Plastic bottle caps, 40.4ms\n",
      "video 1/1 (186/231) /home/shenzihe/桌面/datasets/taco/trash_bottle.mp4: 640x640 1 Other plastic container, 1 Plastic bottle cap, 29.4ms\n",
      "video 1/1 (187/231) /home/shenzihe/桌面/datasets/taco/trash_bottle.mp4: 640x640 1 Other plastic container, 35.1ms\n",
      "video 1/1 (188/231) /home/shenzihe/桌面/datasets/taco/trash_bottle.mp4: 640x640 1 Other plastic container, 1 Plastic bottle cap, 33.4ms\n",
      "video 1/1 (189/231) /home/shenzihe/桌面/datasets/taco/trash_bottle.mp4: 640x640 1 Other plastic container, 30.3ms\n",
      "video 1/1 (190/231) /home/shenzihe/桌面/datasets/taco/trash_bottle.mp4: 640x640 1 Other plastic container, 31.6ms\n",
      "video 1/1 (191/231) /home/shenzihe/桌面/datasets/taco/trash_bottle.mp4: 640x640 1 Other plastic container, 1 Plastic bottle cap, 31.1ms\n",
      "video 1/1 (192/231) /home/shenzihe/桌面/datasets/taco/trash_bottle.mp4: 640x640 2 Other plastic containers, 1 Plastic bottle cap, 32.9ms\n",
      "video 1/1 (193/231) /home/shenzihe/桌面/datasets/taco/trash_bottle.mp4: 640x640 2 Other plastic containers, 1 Plastic bottle cap, 32.3ms\n",
      "video 1/1 (194/231) /home/shenzihe/桌面/datasets/taco/trash_bottle.mp4: 640x640 2 Other plastic containers, 1 Plastic bottle cap, 28.3ms\n",
      "video 1/1 (195/231) /home/shenzihe/桌面/datasets/taco/trash_bottle.mp4: 640x640 2 Other plastic containers, 1 Plastic bottle cap, 31.9ms\n",
      "video 1/1 (196/231) /home/shenzihe/桌面/datasets/taco/trash_bottle.mp4: 640x640 2 Other plastic containers, 1 Plastic bottle cap, 34.0ms\n",
      "video 1/1 (197/231) /home/shenzihe/桌面/datasets/taco/trash_bottle.mp4: 640x640 1 Other plastic container, 1 Plastic bottle cap, 28.0ms\n",
      "video 1/1 (198/231) /home/shenzihe/桌面/datasets/taco/trash_bottle.mp4: 640x640 2 Other plastic containers, 1 Plastic bottle cap, 30.5ms\n",
      "video 1/1 (199/231) /home/shenzihe/桌面/datasets/taco/trash_bottle.mp4: 640x640 1 Other plastic container, 2 Plastic bottle caps, 37.3ms\n",
      "video 1/1 (200/231) /home/shenzihe/桌面/datasets/taco/trash_bottle.mp4: 640x640 1 Other plastic container, 2 Plastic bottle caps, 27.9ms\n",
      "video 1/1 (201/231) /home/shenzihe/桌面/datasets/taco/trash_bottle.mp4: 640x640 2 Other plastic containers, 2 Plastic bottle caps, 1 Plastic lid, 26.6ms\n",
      "video 1/1 (202/231) /home/shenzihe/桌面/datasets/taco/trash_bottle.mp4: 640x640 2 Other plastic containers, 2 Plastic bottle caps, 1 Plastic lid, 32.6ms\n",
      "video 1/1 (203/231) /home/shenzihe/桌面/datasets/taco/trash_bottle.mp4: 640x640 2 Other plastic containers, 2 Plastic bottle caps, 1 Plastic lid, 32.4ms\n",
      "video 1/1 (204/231) /home/shenzihe/桌面/datasets/taco/trash_bottle.mp4: 640x640 3 Other plastic containers, 2 Plastic bottle caps, 31.6ms\n",
      "video 1/1 (205/231) /home/shenzihe/桌面/datasets/taco/trash_bottle.mp4: 640x640 3 Other plastic containers, 2 Plastic bottle caps, 1 Plastic lid, 31.0ms\n",
      "video 1/1 (206/231) /home/shenzihe/桌面/datasets/taco/trash_bottle.mp4: 640x640 3 Other plastic containers, 2 Plastic bottle caps, 1 Plastic lid, 28.3ms\n",
      "video 1/1 (207/231) /home/shenzihe/桌面/datasets/taco/trash_bottle.mp4: 640x640 3 Other plastic containers, 2 Plastic bottle caps, 1 Plastic lid, 28.6ms\n",
      "video 1/1 (208/231) /home/shenzihe/桌面/datasets/taco/trash_bottle.mp4: 640x640 3 Other plastic containers, 2 Plastic bottle caps, 1 Plastic lid, 30.3ms\n",
      "video 1/1 (209/231) /home/shenzihe/桌面/datasets/taco/trash_bottle.mp4: 640x640 3 Other plastic containers, 2 Plastic bottle caps, 1 Plastic lid, 34.4ms\n",
      "video 1/1 (210/231) /home/shenzihe/桌面/datasets/taco/trash_bottle.mp4: 640x640 3 Other plastic containers, 2 Plastic bottle caps, 1 Plastic lid, 52.8ms\n",
      "video 1/1 (211/231) /home/shenzihe/桌面/datasets/taco/trash_bottle.mp4: 640x640 2 Other plastic containers, 3 Plastic bottle caps, 1 Plastic lid, 31.8ms\n",
      "video 1/1 (212/231) /home/shenzihe/桌面/datasets/taco/trash_bottle.mp4: 640x640 2 Other plastic containers, 3 Plastic bottle caps, 31.3ms\n",
      "video 1/1 (213/231) /home/shenzihe/桌面/datasets/taco/trash_bottle.mp4: 640x640 3 Other plastic containers, 2 Plastic bottle caps, 28.4ms\n",
      "video 1/1 (214/231) /home/shenzihe/桌面/datasets/taco/trash_bottle.mp4: 640x640 2 Other plastic containers, 2 Plastic bottle caps, 33.4ms\n",
      "video 1/1 (215/231) /home/shenzihe/桌面/datasets/taco/trash_bottle.mp4: 640x640 2 Other plastic containers, 2 Plastic bottle caps, 38.4ms\n",
      "video 1/1 (216/231) /home/shenzihe/桌面/datasets/taco/trash_bottle.mp4: 640x640 3 Other plastic containers, 2 Plastic bottle caps, 34.0ms\n",
      "video 1/1 (217/231) /home/shenzihe/桌面/datasets/taco/trash_bottle.mp4: 640x640 3 Other plastic containers, 2 Plastic bottle caps, 29.5ms\n",
      "video 1/1 (218/231) /home/shenzihe/桌面/datasets/taco/trash_bottle.mp4: 640x640 3 Other plastic containers, 2 Plastic bottle caps, 34.2ms\n",
      "video 1/1 (219/231) /home/shenzihe/桌面/datasets/taco/trash_bottle.mp4: 640x640 3 Other plastic containers, 2 Plastic bottle caps, 35.8ms\n",
      "video 1/1 (220/231) /home/shenzihe/桌面/datasets/taco/trash_bottle.mp4: 640x640 3 Other plastic containers, 3 Plastic bottle caps, 28.8ms\n",
      "video 1/1 (221/231) /home/shenzihe/桌面/datasets/taco/trash_bottle.mp4: 640x640 3 Other plastic containers, 2 Plastic bottle caps, 36.0ms\n",
      "video 1/1 (222/231) /home/shenzihe/桌面/datasets/taco/trash_bottle.mp4: 640x640 2 Other plastic containers, 2 Plastic bottle caps, 29.4ms\n",
      "video 1/1 (223/231) /home/shenzihe/桌面/datasets/taco/trash_bottle.mp4: 640x640 2 Other plastic containers, 2 Plastic bottle caps, 31.4ms\n",
      "video 1/1 (224/231) /home/shenzihe/桌面/datasets/taco/trash_bottle.mp4: 640x640 2 Other plastic containers, 2 Plastic bottle caps, 34.2ms\n",
      "video 1/1 (225/231) /home/shenzihe/桌面/datasets/taco/trash_bottle.mp4: 640x640 2 Other plastic containers, 2 Plastic bottle caps, 37.7ms\n",
      "video 1/1 (226/231) /home/shenzihe/桌面/datasets/taco/trash_bottle.mp4: 640x640 2 Other plastic containers, 2 Plastic bottle caps, 45.0ms\n",
      "video 1/1 (227/231) /home/shenzihe/桌面/datasets/taco/trash_bottle.mp4: 640x640 2 Other plastic containers, 3 Plastic bottle caps, 85.4ms\n",
      "video 1/1 (228/231) /home/shenzihe/桌面/datasets/taco/trash_bottle.mp4: 640x640 3 Other plastic containers, 3 Plastic bottle caps, 58.0ms\n",
      "video 1/1 (229/231) /home/shenzihe/桌面/datasets/taco/trash_bottle.mp4: 640x640 2 Other plastic containers, 2 Plastic bottle caps, 38.6ms\n",
      "video 1/1 (230/231) /home/shenzihe/桌面/datasets/taco/trash_bottle.mp4: 640x640 2 Other plastic containers, 2 Plastic bottle caps, 39.4ms\n",
      "video 1/1 (231/231) /home/shenzihe/桌面/datasets/taco/trash_bottle.mp4: 640x640 2 Other plastic containers, 3 Plastic bottle caps, 33.6ms\n",
      "Speed: 1.9ms preprocess, 34.2ms inference, 1.3ms postprocess per image at shape (1, 3, 640, 640)\n",
      "Results saved to \u001b[1mruns/detect/predict8\u001b[0m\n"
     ]
    }
   ],
   "source": [
    "\n",
    "from ultralytics import YOLO\n",
    "\n",
    "# Load a model\n",
    "model = YOLO(MODEL_DIR+'/best_openvino_model')\n",
    "\n",
    "#Image\n",
    "result_image =  model(source=PIC_DIR, show=True, save=True)\n",
    "\n",
    "# Video\n",
    "result_video = model(source=VIDEO_DIR, show=True, save=True)\n",
    "\n",
    "#WebCam\n",
    "# result_webCam = model(source='0', save=True)\n"
   ]
  }
 ],
 "metadata": {
  "kernelspec": {
   "display_name": ".venv",
   "language": "python",
   "name": "python3"
  },
  "language_info": {
   "codemirror_mode": {
    "name": "ipython",
    "version": 3
   },
   "file_extension": ".py",
   "mimetype": "text/x-python",
   "name": "python",
   "nbconvert_exporter": "python",
   "pygments_lexer": "ipython3",
   "version": "3.8.16"
  },
  "orig_nbformat": 4
 },
 "nbformat": 4,
 "nbformat_minor": 2
}
